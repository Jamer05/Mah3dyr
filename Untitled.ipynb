{
  "nbformat": 4,
  "nbformat_minor": 5,
  "metadata": {
    "kernelspec": {
      "display_name": "Python 3",
      "language": "python",
      "name": "python3"
    },
    "language_info": {
      "codemirror_mode": {
        "name": "ipython",
        "version": 3
      },
      "file_extension": ".py",
      "mimetype": "text/x-python",
      "name": "python",
      "nbconvert_exporter": "python",
      "pygments_lexer": "ipython3",
      "version": "3.8.2"
    },
    "colab": {
      "name": "Untitled.ipynb",
      "provenance": [],
      "collapsed_sections": []
    }
  },
  "cells": [
    {
      "cell_type": "markdown",
      "metadata": {
        "id": "NRRZs3sIeNpw"
      },
      "source": [
        "# Asynchronous Activity -  8/31 (3 of 3)\n",
        "<label> Note: Ouput is below the code</label>"
      ],
      "id": "NRRZs3sIeNpw"
    },
    {
      "cell_type": "code",
      "metadata": {
        "id": "chicken-trainer"
      },
      "source": [
        "print(\"10 + 5\", 10 + 5)#Addition\n",
        "print(\"10 * 5\", 10 * 5)#Multiplication\n",
        "print(\"10 - 5\", 10 - 5)#Subtraction\n",
        "print(\"10 / 5\", 10 / 5)#Division"
      ],
      "id": "chicken-trainer",
      "execution_count": null,
      "outputs": []
    },
    {
      "cell_type": "markdown",
      "metadata": {
        "id": "subject-moral"
      },
      "source": [
        "# Asynchronous Activity- 8/31 (1 of 3) Python Naming Convention, Numbers and Strings\n",
        "<label> Note: output is below the code</label>"
      ],
      "id": "subject-moral"
    },
    {
      "cell_type": "code",
      "metadata": {
        "id": "alternate-washington"
      },
      "source": [
        "str = \"Hello Students of Data Structure and Algorithms\"\n",
        "\n",
        "#print(\"\\n\".join(str.split()))\n",
        "#print(str)"
      ],
      "id": "alternate-washington",
      "execution_count": null,
      "outputs": []
    },
    {
      "cell_type": "markdown",
      "metadata": {
        "id": "thick-houston"
      },
      "source": [
        "# Array #1 "
      ],
      "id": "thick-houston"
    },
    {
      "cell_type": "code",
      "metadata": {
        "id": "alternate-review"
      },
      "source": [
        "from array import *\n",
        "\n",
        "arr = array('i', [1, 3, 5, 7, 9]) \n",
        "arr.append(11)\n",
        "print(arr)"
      ],
      "id": "alternate-review",
      "execution_count": null,
      "outputs": []
    },
    {
      "cell_type": "markdown",
      "metadata": {
        "id": "essential-grace"
      },
      "source": [
        "# Array #2"
      ],
      "id": "essential-grace"
    },
    {
      "cell_type": "code",
      "metadata": {
        "id": "young-plumbing"
      },
      "source": [
        "from array import *\n",
        "\n",
        "arr = array('i', [8,7,13,11,18]) \n",
        "print(f\"{arr[0]}\\n{arr[1]}\\n{arr[2]}\")"
      ],
      "id": "young-plumbing",
      "execution_count": null,
      "outputs": []
    },
    {
      "cell_type": "markdown",
      "metadata": {
        "id": "confident-picking"
      },
      "source": [
        "# Array #3"
      ],
      "id": "confident-picking"
    },
    {
      "cell_type": "code",
      "metadata": {
        "id": "crazy-creator"
      },
      "source": [
        "from array import *\n",
        "arr = array('i', [1, 3, 5, 3, 7, 1, 9, 3])\n",
        "arr.reverse()\n",
        "print(arr)\n"
      ],
      "id": "crazy-creator",
      "execution_count": null,
      "outputs": []
    },
    {
      "cell_type": "code",
      "metadata": {
        "id": "first-lottery"
      },
      "source": [
        "from array import * \n",
        "\n",
        "arr = array('i',[1,2,3,4,5,18,18])\n",
        "arr.insert(0,2)\n",
        "print(\"The new added array using insert method is:\")\n",
        "print(arr)"
      ],
      "id": "first-lottery",
      "execution_count": null,
      "outputs": []
    },
    {
      "cell_type": "code",
      "metadata": {
        "id": "ranking-large"
      },
      "source": [
        "from array import *\n",
        "\n",
        "arr = array('i',[1,2,3,4,5,18,18])\n",
        "\n",
        "print(\"The new added array using append method is:\")\n",
        "arr.append(2)\n",
        "print(arr)\n",
        "\n",
        "print(\"The new added array using insert method is:\")\n",
        "arr.insert(6,17)\n",
        "print(arr)\n",
        "\n",
        "print(\"The pop array is:\")\n",
        "arr.pop(3)\n",
        "print(arr)\n",
        "\n",
        "print(\"The remove method is:\")\n",
        "arr.remove(1)\n",
        "print(arr)"
      ],
      "id": "ranking-large",
      "execution_count": null,
      "outputs": []
    },
    {
      "cell_type": "code",
      "metadata": {
        "id": "amateur-shakespeare"
      },
      "source": [
        "from array import *\n",
        "\n",
        "arr = array(\"i\",[1,2,3,2,4,5,2,6,7])\n",
        "for i in range(0,9):\n",
        "    print(arr[i],end=\" \")\n",
        "print(\"\\nThe new array is:\", end=\" \")\n",
        "print(arr[0])\n",
        "\n",
        "print('The new added array using insert method is',end= \" \")\n",
        "arr.insert(3,18)\n",
        "print(arr)\n",
        "\n",
        "print('The new added array using append method is',end= \" \")\n",
        "arr.append(18)\n",
        "print(arr)"
      ],
      "id": "amateur-shakespeare",
      "execution_count": null,
      "outputs": []
    },
    {
      "cell_type": "code",
      "metadata": {
        "id": "computational-lesson",
        "outputId": "bdf627e9-bab1-4ade-b34d-6301b88f9a33"
      },
      "source": [
        "from array import array\n",
        "\n",
        "arr = array('i',[1,2,3,4,5,18,18])\n",
        "arr.pop(6)\n",
        "print(arr)"
      ],
      "id": "computational-lesson",
      "execution_count": null,
      "outputs": [
        {
          "name": "stdout",
          "output_type": "stream",
          "text": [
            "array('i', [1, 2, 3, 4, 5, 18])\n"
          ]
        }
      ]
    },
    {
      "cell_type": "code",
      "metadata": {
        "id": "imposed-semester",
        "outputId": "784ecc0f-5bbf-4ae7-ca70-1d67475b90eb"
      },
      "source": [
        "from array import *\n",
        "\n",
        "arr = array('u',['a','i','e','a','i','e','e'])\n",
        "for i in arr:\n",
        "    print(i)\n",
        "print(\"Access first 3 items individually \")\n",
        "print(arr[0])\n",
        "print(arr[1])\n",
        "print(arr[2])"
      ],
      "id": "imposed-semester",
      "execution_count": null,
      "outputs": [
        {
          "name": "stdout",
          "output_type": "stream",
          "text": [
            "a\n",
            "i\n",
            "e\n",
            "a\n",
            "i\n",
            "e\n",
            "e\n",
            "Access first 3 items individually \n",
            "a\n",
            "i\n",
            "e\n"
          ]
        }
      ]
    },
    {
      "cell_type": "markdown",
      "metadata": {
        "id": "eligible-jersey"
      },
      "source": [
        "# Basic Python List Activity #1"
      ],
      "id": "eligible-jersey"
    },
    {
      "cell_type": "markdown",
      "metadata": {
        "id": "productive-productivity"
      },
      "source": [
        "# Exercise 1"
      ],
      "id": "productive-productivity"
    },
    {
      "cell_type": "code",
      "metadata": {
        "id": "ultimate-cooling"
      },
      "source": [
        "ramiro = [19,'Hemerson',36.89,'Adobo','Menudo','BicolExpress','Sisig','Pakbet']"
      ],
      "id": "ultimate-cooling",
      "execution_count": null,
      "outputs": []
    },
    {
      "cell_type": "markdown",
      "metadata": {
        "id": "moving-chambers"
      },
      "source": [
        "# Exercise 2"
      ],
      "id": "moving-chambers"
    },
    {
      "cell_type": "code",
      "metadata": {
        "id": "advisory-keeping",
        "outputId": "f240390c-3b91-4210-f346-73e9289d00ec"
      },
      "source": [
        "ramiro.append(5)\n",
        "print(ramiro)"
      ],
      "id": "advisory-keeping",
      "execution_count": null,
      "outputs": [
        {
          "name": "stdout",
          "output_type": "stream",
          "text": [
            "[19, 'Hemerson', 36.89, 'Adobo', 'Menudo', 'BicolExpress', 'Sisig', 'Pakbet', 5]\n"
          ]
        }
      ]
    },
    {
      "cell_type": "markdown",
      "metadata": {
        "id": "acceptable-leadership"
      },
      "source": [
        "# Exercise 3"
      ],
      "id": "acceptable-leadership"
    },
    {
      "cell_type": "code",
      "metadata": {
        "id": "cultural-excerpt",
        "outputId": "87903f0d-3386-4e83-c907-fb619a34a8c1"
      },
      "source": [
        "ramiro.pop(3)\n",
        "print(ramiro)"
      ],
      "id": "cultural-excerpt",
      "execution_count": null,
      "outputs": [
        {
          "name": "stdout",
          "output_type": "stream",
          "text": [
            "[19, 'Hemerson', 36.89, 'Menudo', 'BicolExpress', 'Sisig', 'Pakbet', 5]\n"
          ]
        }
      ]
    },
    {
      "cell_type": "markdown",
      "metadata": {
        "id": "restricted-circular"
      },
      "source": [
        "# Exercise 4"
      ],
      "id": "restricted-circular"
    },
    {
      "cell_type": "code",
      "metadata": {
        "id": "manual-summit",
        "outputId": "fde296d9-73e6-4c41-b045-1b7a92272c9c"
      },
      "source": [
        "ramiro.insert(3,8)\n",
        "print(ramiro)"
      ],
      "id": "manual-summit",
      "execution_count": null,
      "outputs": [
        {
          "name": "stdout",
          "output_type": "stream",
          "text": [
            "[19, 'Hemerson', 36.89, 8, 'Menudo', 'BicolExpress', 'Sisig', 'Pakbet', 5]\n"
          ]
        }
      ]
    },
    {
      "cell_type": "markdown",
      "metadata": {
        "id": "piano-dominant"
      },
      "source": [
        "# Exercise 5"
      ],
      "id": "piano-dominant"
    },
    {
      "cell_type": "code",
      "metadata": {
        "id": "found-newcastle",
        "outputId": "24bf0bd7-3a2d-446c-ef1e-dc59a34c660c"
      },
      "source": [
        "print(ramiro[-2])"
      ],
      "id": "found-newcastle",
      "execution_count": null,
      "outputs": [
        {
          "name": "stdout",
          "output_type": "stream",
          "text": [
            "Pakbet\n"
          ]
        }
      ]
    },
    {
      "cell_type": "markdown",
      "metadata": {
        "id": "bibliographic-longitude"
      },
      "source": [
        "# Exercise 6"
      ],
      "id": "bibliographic-longitude"
    },
    {
      "cell_type": "code",
      "metadata": {
        "id": "educational-particle",
        "outputId": "a1cd1b45-a2be-4785-be7d-adad44c41f56"
      },
      "source": [
        "myList = [16,16,16,1.2,'a','ana']\n",
        "x = myList.count(16)\n",
        "print(x)"
      ],
      "id": "educational-particle",
      "execution_count": null,
      "outputs": [
        {
          "name": "stdout",
          "output_type": "stream",
          "text": [
            "3\n"
          ]
        }
      ]
    },
    {
      "cell_type": "markdown",
      "metadata": {
        "id": "radio-disclosure"
      },
      "source": [
        "# Basic Python Tuples"
      ],
      "id": "radio-disclosure"
    },
    {
      "cell_type": "markdown",
      "metadata": {
        "id": "different-lawsuit"
      },
      "source": [
        "# Exercise 1"
      ],
      "id": "different-lawsuit"
    },
    {
      "cell_type": "code",
      "metadata": {
        "id": "recreational-recycling",
        "outputId": "c677ec89-cd73-4b1e-cb32-e617f8585462"
      },
      "source": [
        "fruits = ('apple','banna','cherry','orange','kiwi','melon','mango')\n",
        "print(fruits)"
      ],
      "id": "recreational-recycling",
      "execution_count": null,
      "outputs": [
        {
          "name": "stdout",
          "output_type": "stream",
          "text": [
            "('apple', 'banna', 'cherry', 'orange', 'kiwi', 'melon', 'mango')\n"
          ]
        }
      ]
    },
    {
      "cell_type": "markdown",
      "metadata": {
        "id": "heavy-paris"
      },
      "source": [
        "# Exercise 2"
      ],
      "id": "heavy-paris"
    },
    {
      "cell_type": "code",
      "metadata": {
        "id": "outer-percentage",
        "outputId": "03b19187-397e-4e2a-e252-c743f92a2d88"
      },
      "source": [
        "fruits = ('apple','banna','cherry','orange','kiwi','melon','mango')\n",
        "print(fruits[-1])"
      ],
      "id": "outer-percentage",
      "execution_count": null,
      "outputs": [
        {
          "name": "stdout",
          "output_type": "stream",
          "text": [
            "mango\n"
          ]
        }
      ]
    },
    {
      "cell_type": "markdown",
      "metadata": {
        "id": "extra-mistress"
      },
      "source": [
        "# Exercise 3"
      ],
      "id": "extra-mistress"
    },
    {
      "cell_type": "code",
      "metadata": {
        "id": "average-affair",
        "outputId": "699f4445-45a5-46df-f0bb-61e16d6bd4ba"
      },
      "source": [
        "fruits = ('apple','banna','cherry','orange','kiwi','melon','mango')\n",
        "print(fruits[3:6])"
      ],
      "id": "average-affair",
      "execution_count": null,
      "outputs": [
        {
          "name": "stdout",
          "output_type": "stream",
          "text": [
            "('orange', 'kiwi', 'melon')\n"
          ]
        }
      ]
    },
    {
      "cell_type": "markdown",
      "metadata": {
        "id": "dutch-exclusion"
      },
      "source": [
        "# Dictionary"
      ],
      "id": "dutch-exclusion"
    },
    {
      "cell_type": "code",
      "metadata": {
        "id": "upper-zimbabwe",
        "outputId": "c1d01254-6a24-495c-95b4-2686270619b2"
      },
      "source": [
        "thisdict = {'Verb': {\"ilorando\": \"iyak\",\"Garra\": \"Talon\",\"Soplo\": \"Suntok\",\"Danza\": \"Sayaw\",\"Respirar\": \"Huminga\"},\n",
        "            'Noun': {\"Julieta\":\"Julyet\",\"Reloj\": \"Orasan\",\"Comida\":\"Pagkain\", \"Billetera\": \"Pitaka\",\"Aretes\":\"Hikaw\"},\n",
        "            'Adjective':{\"Enorme\":\"Malaki\",\"Amable\":\"Banayad\",\"Perfecto\": \"Perpek\",\"Sabrosa\":\"Malasa\",\"Aspera\":\"Magaspang\"},\n",
        "            'Pronoun':{\"Ella\":\"Siya(Pag babae)\",\"Nostros\":\"Kami\",\"Nuestro\": \"Saamin\",\"Su\":\"Diyaan\",\"Ellas\":\"Sila\"}\n",
        "                     \n",
        "             }\n",
        "print(thisdict['Verb'])#if we going to print selected keys \n",
        "print(thisdict['Noun'])"
      ],
      "id": "upper-zimbabwe",
      "execution_count": null,
      "outputs": [
        {
          "name": "stdout",
          "output_type": "stream",
          "text": [
            "{'ilorando': 'iyak', 'Garra': 'Talon', 'Soplo': 'Suntok', 'Danza': 'Sayaw', 'Respirar': 'Huminga'}\n",
            "{'Julieta': 'Julyet', 'Reloj': 'Orasan', 'Comida': 'Pagkain', 'Billetera': 'Pitaka', 'Aretes': 'Hikaw'}\n"
          ]
        }
      ]
    },
    {
      "cell_type": "code",
      "metadata": {
        "id": "muslim-marathon"
      },
      "source": [
        "Control Structure"
      ],
      "id": "muslim-marathon",
      "execution_count": null,
      "outputs": []
    },
    {
      "cell_type": "code",
      "metadata": {
        "id": "cordless-tender",
        "outputId": "94172486-eaf3-45ca-c3bf-389a38f1d873"
      },
      "source": [
        "print(\"Calculate your grade if you did great job!\")\n",
        "name  = (input(\"\\nEnter your name: \"))\n",
        "math = float(input(\"Enter Math: \"))\n",
        "science = float(input(\"Enter Science: \"))\n",
        "english = float(input(\"Enter English: \"))\n",
        "\n",
        "avg = (math + science + english)/3\n",
        "\n",
        "if avg >= 75:\n",
        "    print(f'Average Grade:{avg:.2f}\\nCongratulations you passed the semester')\n",
        "else:\n",
        "     print('You failed the semester')"
      ],
      "id": "cordless-tender",
      "execution_count": null,
      "outputs": [
        {
          "name": "stdout",
          "output_type": "stream",
          "text": [
            "Calculate your grade if you did great job!\n",
            "\n",
            "Enter your name: Jamer\n",
            "Enter Math: 78.56\n",
            "Enter Science: 77\n",
            "Enter English: 69\n",
            "You failed the semester\n"
          ]
        }
      ]
    },
    {
      "cell_type": "markdown",
      "metadata": {
        "id": "another-supervision"
      },
      "source": [
        "#### "
      ],
      "id": "another-supervision"
    },
    {
      "cell_type": "code",
      "metadata": {
        "id": "diagnostic-garlic"
      },
      "source": [],
      "id": "diagnostic-garlic",
      "execution_count": null,
      "outputs": []
    },
    {
      "cell_type": "code",
      "metadata": {
        "id": "champion-craft"
      },
      "source": [],
      "id": "champion-craft",
      "execution_count": null,
      "outputs": []
    }
  ]
}